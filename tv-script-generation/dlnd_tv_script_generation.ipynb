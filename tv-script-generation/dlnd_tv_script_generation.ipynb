{
 "cells": [
  {
   "cell_type": "markdown",
   "metadata": {},
   "source": [
    "# TV Script Generation\n",
    "In this project, you'll generate your own [Simpsons](https://en.wikipedia.org/wiki/The_Simpsons) TV scripts using RNNs.  You'll be using part of the [Simpsons dataset](https://www.kaggle.com/wcukierski/the-simpsons-by-the-data) of scripts from 27 seasons.  The Neural Network you'll build will generate a new TV script for a scene at [Moe's Tavern](https://simpsonswiki.com/wiki/Moe's_Tavern).\n",
    "## Get the Data\n",
    "The data is already provided for you.  You'll be using a subset of the original dataset.  It consists of only the scenes in Moe's Tavern.  This doesn't include other versions of the tavern, like \"Moe's Cavern\", \"Flaming Moe's\", \"Uncle Moe's Family Feed-Bag\", etc.."
   ]
  },
  {
   "cell_type": "code",
   "execution_count": 52,
   "metadata": {
    "collapsed": true
   },
   "outputs": [],
   "source": [
    "\"\"\"\n",
    "DON'T MODIFY ANYTHING IN THIS CELL\n",
    "\"\"\"\n",
    "import helper\n",
    "\n",
    "data_dir = './data/simpsons/moes_tavern_lines.txt'\n",
    "text = helper.load_data(data_dir)\n",
    "# Ignore notice, since we don't use it for analysing the data\n",
    "text = text[81:]"
   ]
  },
  {
   "cell_type": "markdown",
   "metadata": {},
   "source": [
    "## Explore the Data\n",
    "Play around with `view_sentence_range` to view different parts of the data."
   ]
  },
  {
   "cell_type": "code",
   "execution_count": 53,
   "metadata": {},
   "outputs": [
    {
     "name": "stdout",
     "output_type": "stream",
     "text": [
      "Dataset Stats\n",
      "Roughly the number of unique words: 11492\n",
      "Number of scenes: 262\n",
      "Average number of sentences in each scene: 15.248091603053435\n",
      "Number of lines: 4257\n",
      "Average number of words in each line: 11.50434578341555\n",
      "\n",
      "The sentences 0 to 10:\n",
      "Moe_Szyslak: (INTO PHONE) Moe's Tavern. Where the elite meet to drink.\n",
      "Bart_Simpson: Eh, yeah, hello, is Mike there? Last name, Rotch.\n",
      "Moe_Szyslak: (INTO PHONE) Hold on, I'll check. (TO BARFLIES) Mike Rotch. Mike Rotch. Hey, has anybody seen Mike Rotch, lately?\n",
      "Moe_Szyslak: (INTO PHONE) Listen you little puke. One of these days I'm gonna catch you, and I'm gonna carve my name on your back with an ice pick.\n",
      "Moe_Szyslak: What's the matter Homer? You're not your normal effervescent self.\n",
      "Homer_Simpson: I got my problems, Moe. Give me another one.\n",
      "Moe_Szyslak: Homer, hey, you should not drink to forget your problems.\n",
      "Barney_Gumble: Yeah, you should only drink to enhance your social skills.\n",
      "\n",
      "\n"
     ]
    }
   ],
   "source": [
    "view_sentence_range = (0, 10)\n",
    "\n",
    "\"\"\"\n",
    "DON'T MODIFY ANYTHING IN THIS CELL\n",
    "\"\"\"\n",
    "import numpy as np\n",
    "\n",
    "print('Dataset Stats')\n",
    "print('Roughly the number of unique words: {}'.format(len({word: None for word in text.split()})))\n",
    "scenes = text.split('\\n\\n')\n",
    "print('Number of scenes: {}'.format(len(scenes)))\n",
    "sentence_count_scene = [scene.count('\\n') for scene in scenes]\n",
    "print('Average number of sentences in each scene: {}'.format(np.average(sentence_count_scene)))\n",
    "\n",
    "sentences = [sentence for scene in scenes for sentence in scene.split('\\n')]\n",
    "print('Number of lines: {}'.format(len(sentences)))\n",
    "word_count_sentence = [len(sentence.split()) for sentence in sentences]\n",
    "print('Average number of words in each line: {}'.format(np.average(word_count_sentence)))\n",
    "\n",
    "print()\n",
    "print('The sentences {} to {}:'.format(*view_sentence_range))\n",
    "print('\\n'.join(text.split('\\n')[view_sentence_range[0]:view_sentence_range[1]]))"
   ]
  },
  {
   "cell_type": "markdown",
   "metadata": {},
   "source": [
    "## Implement Preprocessing Functions\n",
    "The first thing to do to any dataset is preprocessing.  Implement the following preprocessing functions below:\n",
    "- Lookup Table\n",
    "- Tokenize Punctuation\n",
    "\n",
    "### Lookup Table\n",
    "To create a word embedding, you first need to transform the words to ids.  In this function, create two dictionaries:\n",
    "- Dictionary to go from the words to an id, we'll call `vocab_to_int`\n",
    "- Dictionary to go from the id to word, we'll call `int_to_vocab`\n",
    "\n",
    "Return these dictionaries in the following tuple `(vocab_to_int, int_to_vocab)`"
   ]
  },
  {
   "cell_type": "code",
   "execution_count": 54,
   "metadata": {},
   "outputs": [
    {
     "name": "stdout",
     "output_type": "stream",
     "text": [
      "Tests Passed\n"
     ]
    }
   ],
   "source": [
    "import numpy as np\n",
    "import problem_unittests as tests\n",
    "\n",
    "def create_lookup_tables(text):\n",
    "    \"\"\"\n",
    "    Create lookup tables for vocabulary\n",
    "    :param text: The text of tv scripts split into words\n",
    "    :return: A tuple of dicts (vocab_to_int, int_to_vocab)\n",
    "    \"\"\"\n",
    "    clean_text = list(set(text))\n",
    "    vocab_to_int = {word: i for i, word in enumerate(clean_text) }\n",
    "    int_to_vocab = {i: word for word, i in vocab_to_int.items() }\n",
    "    \n",
    "    return vocab_to_int, int_to_vocab\n",
    "\n",
    "\n",
    "\"\"\"\n",
    "DON'T MODIFY ANYTHING IN THIS CELL THAT IS BELOW THIS LINE\n",
    "\"\"\"\n",
    "tests.test_create_lookup_tables(create_lookup_tables)"
   ]
  },
  {
   "cell_type": "markdown",
   "metadata": {},
   "source": [
    "### Tokenize Punctuation\n",
    "We'll be splitting the script into a word array using spaces as delimiters.  However, punctuations like periods and exclamation marks make it hard for the neural network to distinguish between the word \"bye\" and \"bye!\".\n",
    "\n",
    "Implement the function `token_lookup` to return a dict that will be used to tokenize symbols like \"!\" into \"||Exclamation_Mark||\".  Create a dictionary for the following symbols where the symbol is the key and value is the token:\n",
    "- Period ( . )\n",
    "- Comma ( , )\n",
    "- Quotation Mark ( \" )\n",
    "- Semicolon ( ; )\n",
    "- Exclamation mark ( ! )\n",
    "- Question mark ( ? )\n",
    "- Left Parentheses ( ( )\n",
    "- Right Parentheses ( ) )\n",
    "- Dash ( -- )\n",
    "- Return ( \\n )\n",
    "\n",
    "This dictionary will be used to token the symbols and add the delimiter (space) around it.  This separates the symbols as it's own word, making it easier for the neural network to predict on the next word. Make sure you don't use a token that could be confused as a word. Instead of using the token \"dash\", try using something like \"||dash||\"."
   ]
  },
  {
   "cell_type": "code",
   "execution_count": 55,
   "metadata": {},
   "outputs": [
    {
     "name": "stdout",
     "output_type": "stream",
     "text": [
      "Tests Passed\n"
     ]
    }
   ],
   "source": [
    "def token_lookup():\n",
    "    \"\"\"\n",
    "    Generate a dict to turn punctuation into a token.\n",
    "    :return: Tokenize dictionary where the key is the punctuation and the value is the token\n",
    "    \"\"\"\n",
    "    return {\n",
    "        \".\": \"||Period||\",\n",
    "        \",\": \"||Comma||\",\n",
    "        \"\\\"\": \"||Quotation_Mark||\",\n",
    "        \";\": \"||Semicolon||\",\n",
    "        \"!\": \"||Exclamation_Mark||\",\n",
    "        \"?\": \"||Question_Mark||\",\n",
    "        \"(\": \"||Left_Parentheses||\",\n",
    "        \")\": \"||Right_Parentheses||\",\n",
    "        \"--\":\"||Dash||\",\n",
    "        \"\\n\":\"||Return||\",\n",
    "    }\n",
    "\n",
    "\"\"\"\n",
    "DON'T MODIFY ANYTHING IN THIS CELL THAT IS BELOW THIS LINE\n",
    "\"\"\"\n",
    "tests.test_tokenize(token_lookup)"
   ]
  },
  {
   "cell_type": "markdown",
   "metadata": {},
   "source": [
    "## Preprocess all the data and save it\n",
    "Running the code cell below will preprocess all the data and save it to file."
   ]
  },
  {
   "cell_type": "code",
   "execution_count": 56,
   "metadata": {
    "collapsed": true
   },
   "outputs": [],
   "source": [
    "\"\"\"\n",
    "DON'T MODIFY ANYTHING IN THIS CELL\n",
    "\"\"\"\n",
    "# Preprocess Training, Validation, and Testing Data\n",
    "helper.preprocess_and_save_data(data_dir, token_lookup, create_lookup_tables)"
   ]
  },
  {
   "cell_type": "markdown",
   "metadata": {},
   "source": [
    "# Check Point\n",
    "This is your first checkpoint. If you ever decide to come back to this notebook or have to restart the notebook, you can start from here. The preprocessed data has been saved to disk."
   ]
  },
  {
   "cell_type": "code",
   "execution_count": 57,
   "metadata": {
    "collapsed": true
   },
   "outputs": [],
   "source": [
    "\"\"\"\n",
    "DON'T MODIFY ANYTHING IN THIS CELL\n",
    "\"\"\"\n",
    "import helper\n",
    "import numpy as np\n",
    "import problem_unittests as tests\n",
    "\n",
    "int_text, vocab_to_int, int_to_vocab, token_dict = helper.load_preprocess()"
   ]
  },
  {
   "cell_type": "markdown",
   "metadata": {},
   "source": [
    "## Build the Neural Network\n",
    "You'll build the components necessary to build a RNN by implementing the following functions below:\n",
    "- get_inputs\n",
    "- get_init_cell\n",
    "- get_embed\n",
    "- build_rnn\n",
    "- build_nn\n",
    "- get_batches\n",
    "\n",
    "### Check the Version of TensorFlow and Access to GPU"
   ]
  },
  {
   "cell_type": "code",
   "execution_count": 58,
   "metadata": {},
   "outputs": [
    {
     "name": "stdout",
     "output_type": "stream",
     "text": [
      "TensorFlow Version: 1.0.1\n",
      "Default GPU Device: /gpu:0\n"
     ]
    }
   ],
   "source": [
    "\"\"\"\n",
    "DON'T MODIFY ANYTHING IN THIS CELL\n",
    "\"\"\"\n",
    "from distutils.version import LooseVersion\n",
    "import warnings\n",
    "import tensorflow as tf\n",
    "\n",
    "# Check TensorFlow Version\n",
    "assert LooseVersion(tf.__version__) >= LooseVersion('1.0'), 'Please use TensorFlow version 1.0 or newer'\n",
    "print('TensorFlow Version: {}'.format(tf.__version__))\n",
    "\n",
    "# Check for a GPU\n",
    "if not tf.test.gpu_device_name():\n",
    "    warnings.warn('No GPU found. Please use a GPU to train your neural network.')\n",
    "else:\n",
    "    print('Default GPU Device: {}'.format(tf.test.gpu_device_name()))"
   ]
  },
  {
   "cell_type": "markdown",
   "metadata": {},
   "source": [
    "### Input\n",
    "Implement the `get_inputs()` function to create TF Placeholders for the Neural Network.  It should create the following placeholders:\n",
    "- Input text placeholder named \"input\" using the [TF Placeholder](https://www.tensorflow.org/api_docs/python/tf/placeholder) `name` parameter.\n",
    "- Targets placeholder\n",
    "- Learning Rate placeholder\n",
    "\n",
    "Return the placeholders in the following tuple `(Input, Targets, LearningRate)`"
   ]
  },
  {
   "cell_type": "code",
   "execution_count": 59,
   "metadata": {},
   "outputs": [
    {
     "name": "stdout",
     "output_type": "stream",
     "text": [
      "Tests Passed\n"
     ]
    }
   ],
   "source": [
    "def get_inputs():\n",
    "    \"\"\"\n",
    "    Create TF Placeholders for input, targets, and learning rate.\n",
    "    :return: Tuple (input, targets, learning rate)\n",
    "    \"\"\"\n",
    "    inputs = tf.placeholder(tf.int32, [None, None], name=\"input\")\n",
    "    targets = tf.placeholder(tf.int32, [None, None], name =\"target\")\n",
    "    learning_rate = tf.placeholder(tf.float32, name=\"learning_rate\")\n",
    "    return inputs, targets, learning_rate\n",
    "\n",
    "\n",
    "\"\"\"\n",
    "DON'T MODIFY ANYTHING IN THIS CELL THAT IS BELOW THIS LINE\n",
    "\"\"\"\n",
    "tests.test_get_inputs(get_inputs)"
   ]
  },
  {
   "cell_type": "markdown",
   "metadata": {},
   "source": [
    "### Build RNN Cell and Initialize\n",
    "Stack one or more [`BasicLSTMCells`](https://www.tensorflow.org/api_docs/python/tf/contrib/rnn/BasicLSTMCell) in a [`MultiRNNCell`](https://www.tensorflow.org/api_docs/python/tf/contrib/rnn/MultiRNNCell).\n",
    "- The Rnn size should be set using `rnn_size`\n",
    "- Initalize Cell State using the MultiRNNCell's [`zero_state()`](https://www.tensorflow.org/api_docs/python/tf/contrib/rnn/MultiRNNCell#zero_state) function\n",
    "    - Apply the name \"initial_state\" to the initial state using [`tf.identity()`](https://www.tensorflow.org/api_docs/python/tf/identity)\n",
    "\n",
    "Return the cell and initial state in the following tuple `(Cell, InitialState)`"
   ]
  },
  {
   "cell_type": "code",
   "execution_count": 60,
   "metadata": {},
   "outputs": [
    {
     "name": "stdout",
     "output_type": "stream",
     "text": [
      "Tests Passed\n"
     ]
    }
   ],
   "source": [
    "def get_init_cell(batch_size, rnn_size):\n",
    "    \"\"\"\n",
    "    Create an RNN Cell and initialize it.\n",
    "    :param batch_size: Size of batches\n",
    "    :param rnn_size: Size of RNNs\n",
    "    :return: Tuple (cell, initialize state)\n",
    "    \"\"\"\n",
    "    layers = 2\n",
    "    lstm = tf.contrib.rnn.BasicLSTMCell(rnn_size)\n",
    "    drop = tf.contrib.rnn.DropoutWrapper(lstm, output_keep_prob=0.8)\n",
    "    cell = tf.contrib.rnn.MultiRNNCell([drop] * layers)\n",
    "    initial_state = cell.zero_state(batch_size, layers)\n",
    "    \n",
    "    return cell, tf.identity(initial_state, name=\"initial_state\")\n",
    "\n",
    "\n",
    "\"\"\"\n",
    "DON'T MODIFY ANYTHING IN THIS CELL THAT IS BELOW THIS LINE\n",
    "\"\"\"\n",
    "tests.test_get_init_cell(get_init_cell)"
   ]
  },
  {
   "cell_type": "markdown",
   "metadata": {},
   "source": [
    "### Word Embedding\n",
    "Apply embedding to `input_data` using TensorFlow.  Return the embedded sequence."
   ]
  },
  {
   "cell_type": "code",
   "execution_count": 61,
   "metadata": {},
   "outputs": [
    {
     "name": "stdout",
     "output_type": "stream",
     "text": [
      "Tests Passed\n"
     ]
    }
   ],
   "source": [
    "def get_embed(input_data, vocab_size, embed_dim):\n",
    "    \"\"\"\n",
    "    Create embedding for <input_data>.\n",
    "    :param input_data: TF placeholder for text input.\n",
    "    :param vocab_size: Number of words in vocabulary.\n",
    "    :param embed_dim: Number of embedding dimensions\n",
    "    :return: Embedded input.\n",
    "    \"\"\"\n",
    "    embedding = tf.Variable(tf.random_uniform((vocab_size, embed_dim), -1, 1))\n",
    "    embed = tf.nn.embedding_lookup(embedding, input_data)\n",
    "    return embed\n",
    "\n",
    "\n",
    "\"\"\"\n",
    "DON'T MODIFY ANYTHING IN THIS CELL THAT IS BELOW THIS LINE\n",
    "\"\"\"\n",
    "tests.test_get_embed(get_embed)"
   ]
  },
  {
   "cell_type": "markdown",
   "metadata": {},
   "source": [
    "### Build RNN\n",
    "You created a RNN Cell in the `get_init_cell()` function.  Time to use the cell to create a RNN.\n",
    "- Build the RNN using the [`tf.nn.dynamic_rnn()`](https://www.tensorflow.org/api_docs/python/tf/nn/dynamic_rnn)\n",
    " - Apply the name \"final_state\" to the final state using [`tf.identity()`](https://www.tensorflow.org/api_docs/python/tf/identity)\n",
    "\n",
    "Return the outputs and final_state state in the following tuple `(Outputs, FinalState)` "
   ]
  },
  {
   "cell_type": "code",
   "execution_count": 62,
   "metadata": {},
   "outputs": [
    {
     "name": "stdout",
     "output_type": "stream",
     "text": [
      "Tests Passed\n"
     ]
    }
   ],
   "source": [
    "def build_rnn(cell, inputs):\n",
    "    \"\"\"\n",
    "    Create a RNN using a RNN Cell\n",
    "    :param cell: RNN Cell\n",
    "    :param inputs: Input text data\n",
    "    :return: Tuple (Outputs, Final State)\n",
    "    \"\"\"\n",
    "\n",
    "    outputs, final_state = tf.nn.dynamic_rnn(cell, inputs, dtype=tf.float32)\n",
    "    return outputs, tf.identity(final_state, name=\"final_state\")\n",
    "\n",
    "\n",
    "\"\"\"\n",
    "DON'T MODIFY ANYTHING IN THIS CELL THAT IS BELOW THIS LINE\n",
    "\"\"\"\n",
    "tests.test_build_rnn(build_rnn)"
   ]
  },
  {
   "cell_type": "markdown",
   "metadata": {},
   "source": [
    "### Build the Neural Network\n",
    "Apply the functions you implemented above to:\n",
    "- Apply embedding to `input_data` using your `get_embed(input_data, vocab_size, embed_dim)` function.\n",
    "- Build RNN using `cell` and your `build_rnn(cell, inputs)` function.\n",
    "- Apply a fully connected layer with a linear activation and `vocab_size` as the number of outputs.\n",
    "\n",
    "Return the logits and final state in the following tuple (Logits, FinalState) "
   ]
  },
  {
   "cell_type": "code",
   "execution_count": 63,
   "metadata": {},
   "outputs": [
    {
     "name": "stdout",
     "output_type": "stream",
     "text": [
      "Tests Passed\n"
     ]
    }
   ],
   "source": [
    "def build_nn(cell, rnn_size, input_data, vocab_size, embed_dim):\n",
    "    \"\"\"\n",
    "    Build part of the neural network\n",
    "    :param cell: RNN cell\n",
    "    :param rnn_size: Size of rnns\n",
    "    :param input_data: Input data\n",
    "    :param vocab_size: Vocabulary size\n",
    "    :param embed_dim: Number of embedding dimensions\n",
    "    :return: Tuple (Logits, FinalState)\n",
    "    \"\"\"\n",
    "    \n",
    "    embed = get_embed(input_data, vocab_size, embed_dim)\n",
    "    outputs, final_state = build_rnn(cell, embed)\n",
    "    logits = tf.contrib.layers.fully_connected(outputs, vocab_size, activation_fn=None)\n",
    "    \n",
    "    return logits, final_state\n",
    "\n",
    "\n",
    "\"\"\"\n",
    "DON'T MODIFY ANYTHING IN THIS CELL THAT IS BELOW THIS LINE\n",
    "\"\"\"\n",
    "tests.test_build_nn(build_nn)"
   ]
  },
  {
   "cell_type": "markdown",
   "metadata": {},
   "source": [
    "### Batches\n",
    "Implement `get_batches` to create batches of input and targets using `int_text`.  The batches should be a Numpy array with the shape `(number of batches, 2, batch size, sequence length)`. Each batch contains two elements:\n",
    "- The first element is a single batch of **input** with the shape `[batch size, sequence length]`\n",
    "- The second element is a single batch of **targets** with the shape `[batch size, sequence length]`\n",
    "\n",
    "If you can't fill the last batch with enough data, drop the last batch.\n",
    "\n",
    "For exmple, `get_batches([1, 2, 3, 4, 5, 6, 7, 8, 9, 10, 11, 12, 13, 14, 15, 16, 17, 18, 19, 20], 3, 2)` would return a Numpy array of the following:\n",
    "```\n",
    "[\n",
    "  # First Batch\n",
    "  [\n",
    "    # Batch of Input\n",
    "    [[ 1  2], [ 7  8], [13 14]]\n",
    "    # Batch of targets\n",
    "    [[ 2  3], [ 8  9], [14 15]]\n",
    "  ]\n",
    "\n",
    "  # Second Batch\n",
    "  [\n",
    "    # Batch of Input\n",
    "    [[ 3  4], [ 9 10], [15 16]]\n",
    "    # Batch of targets\n",
    "    [[ 4  5], [10 11], [16 17]]\n",
    "  ]\n",
    "\n",
    "  # Third Batch\n",
    "  [\n",
    "    # Batch of Input\n",
    "    [[ 5  6], [11 12], [17 18]]\n",
    "    # Batch of targets\n",
    "    [[ 6  7], [12 13], [18  1]]\n",
    "  ]\n",
    "]\n",
    "```\n",
    "\n",
    "Notice that the last target value in the last batch is the first input value of the first batch. In this case, `1`. This is a common technique used when creating sequence batches, although it is rather unintuitive."
   ]
  },
  {
   "cell_type": "code",
   "execution_count": 64,
   "metadata": {},
   "outputs": [
    {
     "name": "stdout",
     "output_type": "stream",
     "text": [
      "Tests Passed\n"
     ]
    }
   ],
   "source": [
    "def get_batches(int_text, batch_size, seq_length):\n",
    "    \"\"\"\n",
    "    Return batches of input and target\n",
    "    :param int_text: Text with the words replaced by their ids\n",
    "    :param batch_size: The size of batch\n",
    "    :param seq_length: The length of sequence\n",
    "    :return: Batches as a Numpy array\n",
    "    \"\"\"\n",
    "    chars_per_batch = batch_size * seq_length\n",
    "    nof_batches = len(int_text) // chars_per_batch\n",
    "    \n",
    "    int_text = int_text + [int_text[0]]\n",
    "\n",
    "    batches = np.zeros((nof_batches, 2, batch_size, seq_length), dtype=np.int32)\n",
    "    for i in range(nof_batches):\n",
    "        for j in range(batch_size):\n",
    "            idx = i * seq_length + j * nof_batches * seq_length\n",
    "            batches[i][0][j] = int_text[idx:idx+seq_length]\n",
    "\n",
    "            if i == nof_batches-1 and j == batch_size - 1:\n",
    "                batches[i][1][j] = int_text[idx+1:idx+seq_length] + [int_text[0]]\n",
    "            else:\n",
    "                batches[i][1][j] = int_text[idx+1:idx+seq_length+1]\n",
    "\n",
    "    return np.array(batches)\n",
    "\n",
    "\n",
    "\"\"\"\n",
    "DON'T MODIFY ANYTHING IN THIS CELL THAT IS BELOW THIS LINE\n",
    "\"\"\"\n",
    "tests.test_get_batches(get_batches)"
   ]
  },
  {
   "cell_type": "markdown",
   "metadata": {},
   "source": [
    "## Neural Network Training\n",
    "### Hyperparameters\n",
    "Tune the following parameters:\n",
    "\n",
    "- Set `num_epochs` to the number of epochs.\n",
    "- Set `batch_size` to the batch size.\n",
    "- Set `rnn_size` to the size of the RNNs.\n",
    "- Set `embed_dim` to the size of the embedding.\n",
    "- Set `seq_length` to the length of sequence.\n",
    "- Set `learning_rate` to the learning rate.\n",
    "- Set `show_every_n_batches` to the number of batches the neural network should print progress."
   ]
  },
  {
   "cell_type": "code",
   "execution_count": 73,
   "metadata": {
    "collapsed": true
   },
   "outputs": [],
   "source": [
    "# Number of Epochs\n",
    "num_epochs = 300\n",
    "# Batch Size\n",
    "batch_size = 512\n",
    "# RNN Size\n",
    "rnn_size = 512\n",
    "# Embedding Dimension Size\n",
    "embed_dim = 300\n",
    "# Sequence Length\n",
    "seq_length = 10\n",
    "# Learning Rate\n",
    "learning_rate = 0.001\n",
    "# Show stats for every n number of batches\n",
    "show_every_n_batches = 10\n",
    "\n",
    "\"\"\"\n",
    "DON'T MODIFY ANYTHING IN THIS CELL THAT IS BELOW THIS LINE\n",
    "\"\"\"\n",
    "save_dir = './save'"
   ]
  },
  {
   "cell_type": "markdown",
   "metadata": {},
   "source": [
    "### Build the Graph\n",
    "Build the graph using the neural network you implemented."
   ]
  },
  {
   "cell_type": "code",
   "execution_count": 74,
   "metadata": {
    "collapsed": true
   },
   "outputs": [],
   "source": [
    "\"\"\"\n",
    "DON'T MODIFY ANYTHING IN THIS CELL\n",
    "\"\"\"\n",
    "from tensorflow.contrib import seq2seq\n",
    "\n",
    "train_graph = tf.Graph()\n",
    "with train_graph.as_default():\n",
    "    vocab_size = len(int_to_vocab)\n",
    "    input_text, targets, lr = get_inputs()\n",
    "    input_data_shape = tf.shape(input_text)\n",
    "    cell, initial_state = get_init_cell(input_data_shape[0], rnn_size)\n",
    "    logits, final_state = build_nn(cell, rnn_size, input_text, vocab_size, embed_dim)\n",
    "\n",
    "    # Probabilities for generating words\n",
    "    probs = tf.nn.softmax(logits, name='probs')\n",
    "\n",
    "    # Loss function\n",
    "    cost = seq2seq.sequence_loss(\n",
    "        logits,\n",
    "        targets,\n",
    "        tf.ones([input_data_shape[0], input_data_shape[1]]))\n",
    "\n",
    "    # Optimizer\n",
    "    optimizer = tf.train.AdamOptimizer(lr)\n",
    "\n",
    "    # Gradient Clipping\n",
    "    gradients = optimizer.compute_gradients(cost)\n",
    "    capped_gradients = [(tf.clip_by_value(grad, -1., 1.), var) for grad, var in gradients if grad is not None]\n",
    "    train_op = optimizer.apply_gradients(capped_gradients)"
   ]
  },
  {
   "cell_type": "markdown",
   "metadata": {},
   "source": [
    "## Train\n",
    "Train the neural network on the preprocessed data.  If you have a hard time getting a good loss, check the [forms](https://discussions.udacity.com/) to see if anyone is having the same problem."
   ]
  },
  {
   "cell_type": "code",
   "execution_count": 75,
   "metadata": {},
   "outputs": [
    {
     "name": "stdout",
     "output_type": "stream",
     "text": [
      "Epoch   0 Batch    0/13   train_loss = 8.822\n",
      "Epoch   0 Batch   10/13   train_loss = 6.573\n",
      "Epoch   1 Batch    7/13   train_loss = 6.293\n",
      "Epoch   2 Batch    4/13   train_loss = 6.207\n",
      "Epoch   3 Batch    1/13   train_loss = 6.124\n",
      "Epoch   3 Batch   11/13   train_loss = 6.123\n",
      "Epoch   4 Batch    8/13   train_loss = 6.097\n",
      "Epoch   5 Batch    5/13   train_loss = 6.006\n",
      "Epoch   6 Batch    2/13   train_loss = 6.054\n",
      "Epoch   6 Batch   12/13   train_loss = 6.066\n",
      "Epoch   7 Batch    9/13   train_loss = 5.914\n",
      "Epoch   8 Batch    6/13   train_loss = 5.897\n",
      "Epoch   9 Batch    3/13   train_loss = 5.764\n",
      "Epoch  10 Batch    0/13   train_loss = 5.817\n",
      "Epoch  10 Batch   10/13   train_loss = 5.713\n",
      "Epoch  11 Batch    7/13   train_loss = 5.714\n",
      "Epoch  12 Batch    4/13   train_loss = 5.631\n",
      "Epoch  13 Batch    1/13   train_loss = 5.633\n",
      "Epoch  13 Batch   11/13   train_loss = 5.638\n",
      "Epoch  14 Batch    8/13   train_loss = 5.609\n",
      "Epoch  15 Batch    5/13   train_loss = 5.504\n",
      "Epoch  16 Batch    2/13   train_loss = 5.526\n",
      "Epoch  16 Batch   12/13   train_loss = 5.553\n",
      "Epoch  17 Batch    9/13   train_loss = 5.405\n",
      "Epoch  18 Batch    6/13   train_loss = 5.416\n",
      "Epoch  19 Batch    3/13   train_loss = 5.284\n",
      "Epoch  20 Batch    0/13   train_loss = 5.368\n",
      "Epoch  20 Batch   10/13   train_loss = 5.232\n",
      "Epoch  21 Batch    7/13   train_loss = 5.230\n",
      "Epoch  22 Batch    4/13   train_loss = 5.132\n",
      "Epoch  23 Batch    1/13   train_loss = 5.157\n",
      "Epoch  23 Batch   11/13   train_loss = 5.171\n",
      "Epoch  24 Batch    8/13   train_loss = 5.145\n",
      "Epoch  25 Batch    5/13   train_loss = 5.016\n",
      "Epoch  26 Batch    2/13   train_loss = 5.059\n",
      "Epoch  26 Batch   12/13   train_loss = 5.097\n",
      "Epoch  27 Batch    9/13   train_loss = 4.954\n",
      "Epoch  28 Batch    6/13   train_loss = 4.971\n",
      "Epoch  29 Batch    3/13   train_loss = 4.838\n",
      "Epoch  30 Batch    0/13   train_loss = 4.938\n",
      "Epoch  30 Batch   10/13   train_loss = 4.782\n",
      "Epoch  31 Batch    7/13   train_loss = 4.794\n",
      "Epoch  32 Batch    4/13   train_loss = 4.711\n",
      "Epoch  33 Batch    1/13   train_loss = 4.772\n",
      "Epoch  33 Batch   11/13   train_loss = 4.791\n",
      "Epoch  34 Batch    8/13   train_loss = 4.746\n",
      "Epoch  35 Batch    5/13   train_loss = 4.632\n",
      "Epoch  36 Batch    2/13   train_loss = 4.682\n",
      "Epoch  36 Batch   12/13   train_loss = 4.732\n",
      "Epoch  37 Batch    9/13   train_loss = 4.602\n",
      "Epoch  38 Batch    6/13   train_loss = 4.619\n",
      "Epoch  39 Batch    3/13   train_loss = 4.508\n",
      "Epoch  40 Batch    0/13   train_loss = 4.616\n",
      "Epoch  40 Batch   10/13   train_loss = 4.466\n",
      "Epoch  41 Batch    7/13   train_loss = 4.494\n",
      "Epoch  42 Batch    4/13   train_loss = 4.402\n",
      "Epoch  43 Batch    1/13   train_loss = 4.453\n",
      "Epoch  43 Batch   11/13   train_loss = 4.487\n",
      "Epoch  44 Batch    8/13   train_loss = 4.424\n",
      "Epoch  45 Batch    5/13   train_loss = 4.331\n",
      "Epoch  46 Batch    2/13   train_loss = 4.379\n",
      "Epoch  46 Batch   12/13   train_loss = 4.406\n",
      "Epoch  47 Batch    9/13   train_loss = 4.285\n",
      "Epoch  48 Batch    6/13   train_loss = 4.305\n",
      "Epoch  49 Batch    3/13   train_loss = 4.203\n",
      "Epoch  50 Batch    0/13   train_loss = 4.283\n",
      "Epoch  50 Batch   10/13   train_loss = 4.138\n",
      "Epoch  51 Batch    7/13   train_loss = 4.185\n",
      "Epoch  52 Batch    4/13   train_loss = 4.116\n",
      "Epoch  53 Batch    1/13   train_loss = 4.209\n",
      "Epoch  53 Batch   11/13   train_loss = 4.203\n",
      "Epoch  54 Batch    8/13   train_loss = 4.137\n",
      "Epoch  55 Batch    5/13   train_loss = 4.075\n",
      "Epoch  56 Batch    2/13   train_loss = 4.106\n",
      "Epoch  56 Batch   12/13   train_loss = 4.102\n",
      "Epoch  57 Batch    9/13   train_loss = 4.034\n",
      "Epoch  58 Batch    6/13   train_loss = 4.033\n",
      "Epoch  59 Batch    3/13   train_loss = 3.964\n",
      "Epoch  60 Batch    0/13   train_loss = 4.003\n",
      "Epoch  60 Batch   10/13   train_loss = 3.899\n",
      "Epoch  61 Batch    7/13   train_loss = 3.947\n",
      "Epoch  62 Batch    4/13   train_loss = 3.870\n",
      "Epoch  63 Batch    1/13   train_loss = 3.878\n",
      "Epoch  63 Batch   11/13   train_loss = 3.930\n",
      "Epoch  64 Batch    8/13   train_loss = 3.827\n",
      "Epoch  65 Batch    5/13   train_loss = 3.771\n",
      "Epoch  66 Batch    2/13   train_loss = 3.784\n",
      "Epoch  66 Batch   12/13   train_loss = 3.812\n",
      "Epoch  67 Batch    9/13   train_loss = 3.731\n",
      "Epoch  68 Batch    6/13   train_loss = 3.736\n",
      "Epoch  69 Batch    3/13   train_loss = 3.641\n",
      "Epoch  70 Batch    0/13   train_loss = 3.683\n",
      "Epoch  70 Batch   10/13   train_loss = 3.610\n",
      "Epoch  71 Batch    7/13   train_loss = 3.671\n",
      "Epoch  72 Batch    4/13   train_loss = 3.588\n",
      "Epoch  73 Batch    1/13   train_loss = 3.569\n",
      "Epoch  73 Batch   11/13   train_loss = 3.627\n",
      "Epoch  74 Batch    8/13   train_loss = 3.517\n",
      "Epoch  75 Batch    5/13   train_loss = 3.499\n",
      "Epoch  76 Batch    2/13   train_loss = 3.484\n",
      "Epoch  76 Batch   12/13   train_loss = 3.516\n",
      "Epoch  77 Batch    9/13   train_loss = 3.470\n",
      "Epoch  78 Batch    6/13   train_loss = 3.470\n",
      "Epoch  79 Batch    3/13   train_loss = 3.370\n",
      "Epoch  80 Batch    0/13   train_loss = 3.411\n",
      "Epoch  80 Batch   10/13   train_loss = 3.316\n",
      "Epoch  81 Batch    7/13   train_loss = 3.396\n",
      "Epoch  82 Batch    4/13   train_loss = 3.321\n",
      "Epoch  83 Batch    1/13   train_loss = 3.371\n",
      "Epoch  83 Batch   11/13   train_loss = 3.413\n",
      "Epoch  84 Batch    8/13   train_loss = 3.353\n",
      "Epoch  85 Batch    5/13   train_loss = 3.324\n",
      "Epoch  86 Batch    2/13   train_loss = 3.304\n",
      "Epoch  86 Batch   12/13   train_loss = 3.391\n",
      "Epoch  87 Batch    9/13   train_loss = 3.301\n",
      "Epoch  88 Batch    6/13   train_loss = 3.296\n",
      "Epoch  89 Batch    3/13   train_loss = 3.168\n",
      "Epoch  90 Batch    0/13   train_loss = 3.115\n",
      "Epoch  90 Batch   10/13   train_loss = 3.072\n",
      "Epoch  91 Batch    7/13   train_loss = 3.100\n",
      "Epoch  92 Batch    4/13   train_loss = 3.067\n",
      "Epoch  93 Batch    1/13   train_loss = 3.017\n",
      "Epoch  93 Batch   11/13   train_loss = 3.161\n",
      "Epoch  94 Batch    8/13   train_loss = 3.036\n",
      "Epoch  95 Batch    5/13   train_loss = 3.025\n",
      "Epoch  96 Batch    2/13   train_loss = 3.089\n",
      "Epoch  96 Batch   12/13   train_loss = 3.167\n",
      "Epoch  97 Batch    9/13   train_loss = 3.025\n",
      "Epoch  98 Batch    6/13   train_loss = 3.132\n",
      "Epoch  99 Batch    3/13   train_loss = 3.050\n",
      "Epoch 100 Batch    0/13   train_loss = 2.859\n",
      "Epoch 100 Batch   10/13   train_loss = 2.825\n",
      "Epoch 101 Batch    7/13   train_loss = 2.851\n",
      "Epoch 102 Batch    4/13   train_loss = 2.776\n",
      "Epoch 103 Batch    1/13   train_loss = 2.739\n",
      "Epoch 103 Batch   11/13   train_loss = 2.781\n",
      "Epoch 104 Batch    8/13   train_loss = 2.663\n",
      "Epoch 105 Batch    5/13   train_loss = 2.631\n",
      "Epoch 106 Batch    2/13   train_loss = 2.615\n",
      "Epoch 106 Batch   12/13   train_loss = 2.637\n",
      "Epoch 107 Batch    9/13   train_loss = 2.613\n",
      "Epoch 108 Batch    6/13   train_loss = 2.613\n",
      "Epoch 109 Batch    3/13   train_loss = 2.509\n",
      "Epoch 110 Batch    0/13   train_loss = 2.485\n",
      "Epoch 110 Batch   10/13   train_loss = 2.434\n",
      "Epoch 111 Batch    7/13   train_loss = 2.510\n",
      "Epoch 112 Batch    4/13   train_loss = 2.474\n",
      "Epoch 113 Batch    1/13   train_loss = 2.440\n",
      "Epoch 113 Batch   11/13   train_loss = 2.509\n",
      "Epoch 114 Batch    8/13   train_loss = 2.405\n",
      "Epoch 115 Batch    5/13   train_loss = 2.422\n",
      "Epoch 116 Batch    2/13   train_loss = 2.392\n",
      "Epoch 116 Batch   12/13   train_loss = 2.393\n",
      "Epoch 117 Batch    9/13   train_loss = 2.549\n",
      "Epoch 118 Batch    6/13   train_loss = 2.426\n",
      "Epoch 119 Batch    3/13   train_loss = 2.448\n",
      "Epoch 120 Batch    0/13   train_loss = 2.382\n",
      "Epoch 120 Batch   10/13   train_loss = 2.350\n",
      "Epoch 121 Batch    7/13   train_loss = 2.460\n",
      "Epoch 122 Batch    4/13   train_loss = 2.357\n",
      "Epoch 123 Batch    1/13   train_loss = 2.369\n",
      "Epoch 123 Batch   11/13   train_loss = 2.326\n",
      "Epoch 124 Batch    8/13   train_loss = 2.235\n",
      "Epoch 125 Batch    5/13   train_loss = 2.183\n",
      "Epoch 126 Batch    2/13   train_loss = 2.142\n",
      "Epoch 126 Batch   12/13   train_loss = 2.127\n",
      "Epoch 127 Batch    9/13   train_loss = 2.134\n",
      "Epoch 128 Batch    6/13   train_loss = 2.098\n",
      "Epoch 129 Batch    3/13   train_loss = 2.041\n",
      "Epoch 130 Batch    0/13   train_loss = 1.946\n",
      "Epoch 130 Batch   10/13   train_loss = 1.931\n",
      "Epoch 131 Batch    7/13   train_loss = 2.013\n",
      "Epoch 132 Batch    4/13   train_loss = 1.964\n",
      "Epoch 133 Batch    1/13   train_loss = 1.939\n",
      "Epoch 133 Batch   11/13   train_loss = 1.982\n",
      "Epoch 134 Batch    8/13   train_loss = 1.888\n",
      "Epoch 135 Batch    5/13   train_loss = 1.877\n",
      "Epoch 136 Batch    2/13   train_loss = 1.833\n",
      "Epoch 136 Batch   12/13   train_loss = 1.842\n",
      "Epoch 137 Batch    9/13   train_loss = 1.900\n",
      "Epoch 138 Batch    6/13   train_loss = 1.852\n",
      "Epoch 139 Batch    3/13   train_loss = 1.822\n",
      "Epoch 140 Batch    0/13   train_loss = 1.723\n"
     ]
    },
    {
     "name": "stdout",
     "output_type": "stream",
     "text": [
      "Epoch 140 Batch   10/13   train_loss = 1.739\n",
      "Epoch 141 Batch    7/13   train_loss = 1.789\n",
      "Epoch 142 Batch    4/13   train_loss = 1.784\n",
      "Epoch 143 Batch    1/13   train_loss = 1.745\n",
      "Epoch 143 Batch   11/13   train_loss = 1.827\n",
      "Epoch 144 Batch    8/13   train_loss = 1.716\n",
      "Epoch 145 Batch    5/13   train_loss = 1.767\n",
      "Epoch 146 Batch    2/13   train_loss = 1.680\n",
      "Epoch 146 Batch   12/13   train_loss = 1.775\n",
      "Epoch 147 Batch    9/13   train_loss = 1.822\n",
      "Epoch 148 Batch    6/13   train_loss = 1.865\n",
      "Epoch 149 Batch    3/13   train_loss = 1.875\n",
      "Epoch 150 Batch    0/13   train_loss = 1.754\n",
      "Epoch 150 Batch   10/13   train_loss = 1.902\n",
      "Epoch 151 Batch    7/13   train_loss = 1.798\n",
      "Epoch 152 Batch    4/13   train_loss = 1.745\n",
      "Epoch 153 Batch    1/13   train_loss = 1.627\n",
      "Epoch 153 Batch   11/13   train_loss = 1.618\n",
      "Epoch 154 Batch    8/13   train_loss = 1.536\n",
      "Epoch 155 Batch    5/13   train_loss = 1.493\n",
      "Epoch 156 Batch    2/13   train_loss = 1.449\n",
      "Epoch 156 Batch   12/13   train_loss = 1.476\n",
      "Epoch 157 Batch    9/13   train_loss = 1.512\n",
      "Epoch 158 Batch    6/13   train_loss = 1.481\n",
      "Epoch 159 Batch    3/13   train_loss = 1.449\n",
      "Epoch 160 Batch    0/13   train_loss = 1.358\n",
      "Epoch 160 Batch   10/13   train_loss = 1.374\n",
      "Epoch 161 Batch    7/13   train_loss = 1.383\n",
      "Epoch 162 Batch    4/13   train_loss = 1.400\n",
      "Epoch 163 Batch    1/13   train_loss = 1.346\n",
      "Epoch 163 Batch   11/13   train_loss = 1.395\n",
      "Epoch 164 Batch    8/13   train_loss = 1.320\n",
      "Epoch 165 Batch    5/13   train_loss = 1.311\n",
      "Epoch 166 Batch    2/13   train_loss = 1.278\n",
      "Epoch 166 Batch   12/13   train_loss = 1.273\n",
      "Epoch 167 Batch    9/13   train_loss = 1.339\n",
      "Epoch 168 Batch    6/13   train_loss = 1.306\n",
      "Epoch 169 Batch    3/13   train_loss = 1.303\n",
      "Epoch 170 Batch    0/13   train_loss = 1.187\n",
      "Epoch 170 Batch   10/13   train_loss = 1.255\n",
      "Epoch 171 Batch    7/13   train_loss = 1.274\n",
      "Epoch 172 Batch    4/13   train_loss = 1.278\n",
      "Epoch 173 Batch    1/13   train_loss = 1.265\n",
      "Epoch 173 Batch   11/13   train_loss = 1.265\n",
      "Epoch 174 Batch    8/13   train_loss = 1.247\n",
      "Epoch 175 Batch    5/13   train_loss = 1.196\n",
      "Epoch 176 Batch    2/13   train_loss = 1.169\n",
      "Epoch 176 Batch   12/13   train_loss = 1.173\n",
      "Epoch 177 Batch    9/13   train_loss = 1.231\n",
      "Epoch 178 Batch    6/13   train_loss = 1.211\n",
      "Epoch 179 Batch    3/13   train_loss = 1.164\n",
      "Epoch 180 Batch    0/13   train_loss = 1.102\n",
      "Epoch 180 Batch   10/13   train_loss = 1.119\n",
      "Epoch 181 Batch    7/13   train_loss = 1.134\n",
      "Epoch 182 Batch    4/13   train_loss = 1.133\n",
      "Epoch 183 Batch    1/13   train_loss = 1.125\n",
      "Epoch 183 Batch   11/13   train_loss = 1.144\n",
      "Epoch 184 Batch    8/13   train_loss = 1.079\n",
      "Epoch 185 Batch    5/13   train_loss = 1.072\n",
      "Epoch 186 Batch    2/13   train_loss = 1.067\n",
      "Epoch 186 Batch   12/13   train_loss = 1.064\n",
      "Epoch 187 Batch    9/13   train_loss = 1.103\n",
      "Epoch 188 Batch    6/13   train_loss = 1.198\n",
      "Epoch 189 Batch    3/13   train_loss = 1.075\n",
      "Epoch 190 Batch    0/13   train_loss = 1.079\n",
      "Epoch 190 Batch   10/13   train_loss = 1.080\n",
      "Epoch 191 Batch    7/13   train_loss = 1.080\n",
      "Epoch 192 Batch    4/13   train_loss = 1.117\n",
      "Epoch 193 Batch    1/13   train_loss = 1.057\n",
      "Epoch 193 Batch   11/13   train_loss = 1.063\n",
      "Epoch 194 Batch    8/13   train_loss = 0.990\n",
      "Epoch 195 Batch    5/13   train_loss = 0.976\n",
      "Epoch 196 Batch    2/13   train_loss = 0.935\n",
      "Epoch 196 Batch   12/13   train_loss = 0.914\n",
      "Epoch 197 Batch    9/13   train_loss = 0.975\n",
      "Epoch 198 Batch    6/13   train_loss = 0.962\n",
      "Epoch 199 Batch    3/13   train_loss = 0.928\n",
      "Epoch 200 Batch    0/13   train_loss = 0.880\n",
      "Epoch 200 Batch   10/13   train_loss = 0.890\n",
      "Epoch 201 Batch    7/13   train_loss = 0.914\n",
      "Epoch 202 Batch    4/13   train_loss = 0.917\n",
      "Epoch 203 Batch    1/13   train_loss = 0.885\n",
      "Epoch 203 Batch   11/13   train_loss = 0.913\n",
      "Epoch 204 Batch    8/13   train_loss = 0.873\n",
      "Epoch 205 Batch    5/13   train_loss = 0.852\n",
      "Epoch 206 Batch    2/13   train_loss = 0.825\n",
      "Epoch 206 Batch   12/13   train_loss = 0.824\n",
      "Epoch 207 Batch    9/13   train_loss = 0.879\n",
      "Epoch 208 Batch    6/13   train_loss = 0.882\n",
      "Epoch 209 Batch    3/13   train_loss = 0.855\n",
      "Epoch 210 Batch    0/13   train_loss = 0.795\n",
      "Epoch 210 Batch   10/13   train_loss = 0.824\n",
      "Epoch 211 Batch    7/13   train_loss = 0.853\n",
      "Epoch 212 Batch    4/13   train_loss = 0.847\n",
      "Epoch 213 Batch    1/13   train_loss = 0.842\n",
      "Epoch 213 Batch   11/13   train_loss = 0.841\n",
      "Epoch 214 Batch    8/13   train_loss = 0.818\n",
      "Epoch 215 Batch    5/13   train_loss = 0.788\n",
      "Epoch 216 Batch    2/13   train_loss = 0.779\n",
      "Epoch 216 Batch   12/13   train_loss = 0.761\n",
      "Epoch 217 Batch    9/13   train_loss = 0.815\n",
      "Epoch 218 Batch    6/13   train_loss = 0.802\n",
      "Epoch 219 Batch    3/13   train_loss = 0.793\n",
      "Epoch 220 Batch    0/13   train_loss = 0.719\n",
      "Epoch 220 Batch   10/13   train_loss = 0.749\n",
      "Epoch 221 Batch    7/13   train_loss = 0.768\n",
      "Epoch 222 Batch    4/13   train_loss = 0.758\n",
      "Epoch 223 Batch    1/13   train_loss = 0.745\n",
      "Epoch 223 Batch   11/13   train_loss = 0.767\n",
      "Epoch 224 Batch    8/13   train_loss = 0.742\n",
      "Epoch 225 Batch    5/13   train_loss = 0.720\n",
      "Epoch 226 Batch    2/13   train_loss = 0.709\n",
      "Epoch 226 Batch   12/13   train_loss = 0.707\n",
      "Epoch 227 Batch    9/13   train_loss = 0.752\n",
      "Epoch 228 Batch    6/13   train_loss = 0.739\n",
      "Epoch 229 Batch    3/13   train_loss = 0.725\n",
      "Epoch 230 Batch    0/13   train_loss = 0.661\n",
      "Epoch 230 Batch   10/13   train_loss = 0.689\n",
      "Epoch 231 Batch    7/13   train_loss = 0.705\n",
      "Epoch 232 Batch    4/13   train_loss = 0.707\n",
      "Epoch 233 Batch    1/13   train_loss = 0.692\n",
      "Epoch 233 Batch   11/13   train_loss = 0.710\n",
      "Epoch 234 Batch    8/13   train_loss = 0.680\n",
      "Epoch 235 Batch    5/13   train_loss = 0.662\n",
      "Epoch 236 Batch    2/13   train_loss = 0.669\n",
      "Epoch 236 Batch   12/13   train_loss = 0.649\n",
      "Epoch 237 Batch    9/13   train_loss = 0.695\n",
      "Epoch 238 Batch    6/13   train_loss = 0.673\n",
      "Epoch 239 Batch    3/13   train_loss = 0.681\n",
      "Epoch 240 Batch    0/13   train_loss = 0.610\n",
      "Epoch 240 Batch   10/13   train_loss = 0.636\n",
      "Epoch 241 Batch    7/13   train_loss = 0.660\n",
      "Epoch 242 Batch    4/13   train_loss = 0.652\n",
      "Epoch 243 Batch    1/13   train_loss = 0.652\n",
      "Epoch 243 Batch   11/13   train_loss = 0.656\n",
      "Epoch 244 Batch    8/13   train_loss = 0.630\n",
      "Epoch 245 Batch    5/13   train_loss = 0.617\n",
      "Epoch 246 Batch    2/13   train_loss = 0.633\n",
      "Epoch 246 Batch   12/13   train_loss = 0.606\n",
      "Epoch 247 Batch    9/13   train_loss = 0.654\n",
      "Epoch 248 Batch    6/13   train_loss = 0.642\n",
      "Epoch 249 Batch    3/13   train_loss = 0.654\n",
      "Epoch 250 Batch    0/13   train_loss = 0.582\n",
      "Epoch 250 Batch   10/13   train_loss = 0.604\n",
      "Epoch 251 Batch    7/13   train_loss = 0.629\n",
      "Epoch 252 Batch    4/13   train_loss = 0.628\n",
      "Epoch 253 Batch    1/13   train_loss = 0.628\n",
      "Epoch 253 Batch   11/13   train_loss = 0.631\n",
      "Epoch 254 Batch    8/13   train_loss = 0.632\n",
      "Epoch 255 Batch    5/13   train_loss = 0.597\n",
      "Epoch 256 Batch    2/13   train_loss = 0.591\n",
      "Epoch 256 Batch   12/13   train_loss = 0.589\n",
      "Epoch 257 Batch    9/13   train_loss = 0.616\n",
      "Epoch 258 Batch    6/13   train_loss = 0.622\n",
      "Epoch 259 Batch    3/13   train_loss = 0.607\n",
      "Epoch 260 Batch    0/13   train_loss = 0.551\n",
      "Epoch 260 Batch   10/13   train_loss = 0.574\n",
      "Epoch 261 Batch    7/13   train_loss = 0.586\n",
      "Epoch 262 Batch    4/13   train_loss = 0.583\n",
      "Epoch 263 Batch    1/13   train_loss = 0.577\n",
      "Epoch 263 Batch   11/13   train_loss = 0.589\n",
      "Epoch 264 Batch    8/13   train_loss = 0.565\n",
      "Epoch 265 Batch    5/13   train_loss = 0.552\n",
      "Epoch 266 Batch    2/13   train_loss = 0.565\n",
      "Epoch 266 Batch   12/13   train_loss = 0.548\n",
      "Epoch 267 Batch    9/13   train_loss = 0.573\n",
      "Epoch 268 Batch    6/13   train_loss = 0.578\n",
      "Epoch 269 Batch    3/13   train_loss = 0.553\n",
      "Epoch 270 Batch    0/13   train_loss = 0.515\n",
      "Epoch 270 Batch   10/13   train_loss = 0.531\n",
      "Epoch 271 Batch    7/13   train_loss = 0.565\n",
      "Epoch 272 Batch    4/13   train_loss = 0.548\n",
      "Epoch 273 Batch    1/13   train_loss = 0.555\n",
      "Epoch 273 Batch   11/13   train_loss = 0.552\n",
      "Epoch 274 Batch    8/13   train_loss = 0.541\n",
      "Epoch 275 Batch    5/13   train_loss = 0.531\n",
      "Epoch 276 Batch    2/13   train_loss = 0.535\n",
      "Epoch 276 Batch   12/13   train_loss = 0.514\n",
      "Epoch 277 Batch    9/13   train_loss = 0.538\n",
      "Epoch 278 Batch    6/13   train_loss = 0.541\n",
      "Epoch 279 Batch    3/13   train_loss = 0.524\n",
      "Epoch 280 Batch    0/13   train_loss = 0.499\n",
      "Epoch 280 Batch   10/13   train_loss = 0.524\n"
     ]
    },
    {
     "name": "stdout",
     "output_type": "stream",
     "text": [
      "Epoch 281 Batch    7/13   train_loss = 0.550\n",
      "Epoch 282 Batch    4/13   train_loss = 0.537\n",
      "Epoch 283 Batch    1/13   train_loss = 0.532\n",
      "Epoch 283 Batch   11/13   train_loss = 0.534\n",
      "Epoch 284 Batch    8/13   train_loss = 0.518\n",
      "Epoch 285 Batch    5/13   train_loss = 0.510\n",
      "Epoch 286 Batch    2/13   train_loss = 0.501\n",
      "Epoch 286 Batch   12/13   train_loss = 0.503\n",
      "Epoch 287 Batch    9/13   train_loss = 0.527\n",
      "Epoch 288 Batch    6/13   train_loss = 0.530\n",
      "Epoch 289 Batch    3/13   train_loss = 0.505\n",
      "Epoch 290 Batch    0/13   train_loss = 0.482\n",
      "Epoch 290 Batch   10/13   train_loss = 0.485\n",
      "Epoch 291 Batch    7/13   train_loss = 0.522\n",
      "Epoch 292 Batch    4/13   train_loss = 0.507\n",
      "Epoch 293 Batch    1/13   train_loss = 0.513\n",
      "Epoch 293 Batch   11/13   train_loss = 0.514\n",
      "Epoch 294 Batch    8/13   train_loss = 0.498\n",
      "Epoch 295 Batch    5/13   train_loss = 0.486\n",
      "Epoch 296 Batch    2/13   train_loss = 0.495\n",
      "Epoch 296 Batch   12/13   train_loss = 0.492\n",
      "Epoch 297 Batch    9/13   train_loss = 0.513\n",
      "Epoch 298 Batch    6/13   train_loss = 0.510\n",
      "Epoch 299 Batch    3/13   train_loss = 0.500\n",
      "Model Trained and Saved\n"
     ]
    }
   ],
   "source": [
    "\"\"\"\n",
    "DON'T MODIFY ANYTHING IN THIS CELL\n",
    "\"\"\"\n",
    "batches = get_batches(int_text, batch_size, seq_length)\n",
    "\n",
    "with tf.Session(graph=train_graph) as sess:\n",
    "    sess.run(tf.global_variables_initializer())\n",
    "\n",
    "    for epoch_i in range(num_epochs):\n",
    "        state = sess.run(initial_state, {input_text: batches[0][0]})\n",
    "\n",
    "        for batch_i, (x, y) in enumerate(batches):\n",
    "            feed = {\n",
    "                input_text: x,\n",
    "                targets: y,\n",
    "                initial_state: state,\n",
    "                lr: learning_rate}\n",
    "            train_loss, state, _ = sess.run([cost, final_state, train_op], feed)\n",
    "\n",
    "            # Show every <show_every_n_batches> batches\n",
    "            if (epoch_i * len(batches) + batch_i) % show_every_n_batches == 0:\n",
    "                print('Epoch {:>3} Batch {:>4}/{}   train_loss = {:.3f}'.format(\n",
    "                    epoch_i,\n",
    "                    batch_i,\n",
    "                    len(batches),\n",
    "                    train_loss))\n",
    "\n",
    "    # Save Model\n",
    "    saver = tf.train.Saver()\n",
    "    saver.save(sess, save_dir)\n",
    "    print('Model Trained and Saved')"
   ]
  },
  {
   "cell_type": "markdown",
   "metadata": {},
   "source": [
    "## Save Parameters\n",
    "Save `seq_length` and `save_dir` for generating a new TV script."
   ]
  },
  {
   "cell_type": "code",
   "execution_count": 76,
   "metadata": {
    "collapsed": true
   },
   "outputs": [],
   "source": [
    "\"\"\"\n",
    "DON'T MODIFY ANYTHING IN THIS CELL\n",
    "\"\"\"\n",
    "# Save parameters for checkpoint\n",
    "helper.save_params((seq_length, save_dir))"
   ]
  },
  {
   "cell_type": "markdown",
   "metadata": {},
   "source": [
    "# Checkpoint"
   ]
  },
  {
   "cell_type": "code",
   "execution_count": 77,
   "metadata": {
    "collapsed": true
   },
   "outputs": [],
   "source": [
    "\"\"\"\n",
    "DON'T MODIFY ANYTHING IN THIS CELL\n",
    "\"\"\"\n",
    "import tensorflow as tf\n",
    "import numpy as np\n",
    "import helper\n",
    "import problem_unittests as tests\n",
    "\n",
    "_, vocab_to_int, int_to_vocab, token_dict = helper.load_preprocess()\n",
    "seq_length, load_dir = helper.load_params()"
   ]
  },
  {
   "cell_type": "markdown",
   "metadata": {},
   "source": [
    "## Implement Generate Functions\n",
    "### Get Tensors\n",
    "Get tensors from `loaded_graph` using the function [`get_tensor_by_name()`](https://www.tensorflow.org/api_docs/python/tf/Graph#get_tensor_by_name).  Get the tensors using the following names:\n",
    "- \"input:0\"\n",
    "- \"initial_state:0\"\n",
    "- \"final_state:0\"\n",
    "- \"probs:0\"\n",
    "\n",
    "Return the tensors in the following tuple `(InputTensor, InitialStateTensor, FinalStateTensor, ProbsTensor)` "
   ]
  },
  {
   "cell_type": "code",
   "execution_count": 78,
   "metadata": {},
   "outputs": [
    {
     "name": "stdout",
     "output_type": "stream",
     "text": [
      "Tests Passed\n"
     ]
    }
   ],
   "source": [
    "def get_tensors(loaded_graph):\n",
    "    \"\"\"\n",
    "    Get input, initial state, final state, and probabilities tensor from <loaded_graph>\n",
    "    :param loaded_graph: TensorFlow graph loaded from file\n",
    "    :return: Tuple (InputTensor, InitialStateTensor, FinalStateTensor, ProbsTensor)\n",
    "    \"\"\"\n",
    "    get = loaded_graph.get_tensor_by_name\n",
    "    inputs = get(\"input:0\")\n",
    "    initial_state = get(\"initial_state:0\")\n",
    "    final_state = get(\"final_state:0\")\n",
    "    probs = get(\"probs:0\")\n",
    "    return inputs, initial_state, final_state, probs\n",
    "\n",
    "\n",
    "\"\"\"\n",
    "DON'T MODIFY ANYTHING IN THIS CELL THAT IS BELOW THIS LINE\n",
    "\"\"\"\n",
    "tests.test_get_tensors(get_tensors)"
   ]
  },
  {
   "cell_type": "markdown",
   "metadata": {},
   "source": [
    "### Choose Word\n",
    "Implement the `pick_word()` function to select the next word using `probabilities`."
   ]
  },
  {
   "cell_type": "code",
   "execution_count": 79,
   "metadata": {},
   "outputs": [
    {
     "name": "stdout",
     "output_type": "stream",
     "text": [
      "Tests Passed\n"
     ]
    }
   ],
   "source": [
    "def pick_word(probabilities, int_to_vocab):\n",
    "    \"\"\"\n",
    "    Pick the next word in the generated text\n",
    "    :param probabilities: Probabilites of the next word\n",
    "    :param int_to_vocab: Dictionary of word ids as the keys and words as the values\n",
    "    :return: String of the predicted word\n",
    "    \"\"\"\n",
    "\n",
    "    return int_to_vocab[np.random.choice(len(int_to_vocab), None, False, probabilities)]\n",
    "\n",
    "\n",
    "\"\"\"\n",
    "DON'T MODIFY ANYTHING IN THIS CELL THAT IS BELOW THIS LINE\n",
    "\"\"\"\n",
    "tests.test_pick_word(pick_word)"
   ]
  },
  {
   "cell_type": "markdown",
   "metadata": {},
   "source": [
    "## Generate TV Script\n",
    "This will generate the TV script for you.  Set `gen_length` to the length of TV script you want to generate."
   ]
  },
  {
   "cell_type": "code",
   "execution_count": null,
   "metadata": {},
   "outputs": [],
   "source": [
    "gen_length = 200\n",
    "# homer_simpson, moe_szyslak, or Barney_Gumble\n",
    "prime_word = 'moe_szyslak'\n",
    "\n",
    "\"\"\"\n",
    "DON'T MODIFY ANYTHING IN THIS CELL THAT IS BELOW THIS LINE\n",
    "\"\"\"\n",
    "loaded_graph = tf.Graph()\n",
    "with tf.Session(graph=loaded_graph) as sess:\n",
    "    # Load saved model\n",
    "    loader = tf.train.import_meta_graph(load_dir + '.meta')\n",
    "    loader.restore(sess, load_dir)\n",
    "\n",
    "    # Get Tensors from loaded model\n",
    "    input_text, initial_state, final_state, probs = get_tensors(loaded_graph)\n",
    "\n",
    "    # Sentences generation setup\n",
    "    gen_sentences = [prime_word + ':']\n",
    "    prev_state = sess.run(initial_state, {input_text: np.array([[1]])})\n",
    "\n",
    "    # Generate sentences\n",
    "    for n in range(gen_length):\n",
    "        # Dynamic Input\n",
    "        dyn_input = [[vocab_to_int[word] for word in gen_sentences[-seq_length:]]]\n",
    "        dyn_seq_length = len(dyn_input[0])\n",
    "\n",
    "        # Get Prediction\n",
    "        probabilities, prev_state = sess.run(\n",
    "            [probs, final_state],\n",
    "            {input_text: dyn_input, initial_state: prev_state})\n",
    "        \n",
    "        pred_word = pick_word(probabilities[dyn_seq_length-1], int_to_vocab)\n",
    "\n",
    "        gen_sentences.append(pred_word)\n",
    "    \n",
    "    # Remove tokens\n",
    "    tv_script = ' '.join(gen_sentences)\n",
    "    for key, token in token_dict.items():\n",
    "        ending = ' ' if key in ['\\n', '(', '\"'] else ''\n",
    "        tv_script = tv_script.replace(' ' + token.lower(), key)\n",
    "    tv_script = tv_script.replace('\\n ', '\\n')\n",
    "    tv_script = tv_script.replace('( ', '(')\n",
    "        \n",
    "    print(tv_script)"
   ]
  },
  {
   "cell_type": "markdown",
   "metadata": {},
   "source": [
    "# The TV Script is Nonsensical\n",
    "It's ok if the TV script doesn't make any sense.  We trained on less than a megabyte of text.  In order to get good results, you'll have to use a smaller vocabulary or get more data.  Luckly there's more data!  As we mentioned in the begging of this project, this is a subset of [another dataset](https://www.kaggle.com/wcukierski/the-simpsons-by-the-data).  We didn't have you train on all the data, because that would take too long.  However, you are free to train your neural network on all the data.  After you complete the project, of course.\n",
    "# Submitting This Project\n",
    "When submitting this project, make sure to run all the cells before saving the notebook. Save the notebook file as \"dlnd_tv_script_generation.ipynb\" and save it as a HTML file under \"File\" -> \"Download as\". Include the \"helper.py\" and \"problem_unittests.py\" files in your submission."
   ]
  }
 ],
 "metadata": {
  "kernelspec": {
   "display_name": "Python 3",
   "language": "python",
   "name": "python3"
  },
  "language_info": {
   "codemirror_mode": {
    "name": "ipython",
    "version": 3
   },
   "file_extension": ".py",
   "mimetype": "text/x-python",
   "name": "python",
   "nbconvert_exporter": "python",
   "pygments_lexer": "ipython3",
   "version": "3.5.3"
  },
  "widgets": {
   "state": {},
   "version": "1.1.2"
  }
 },
 "nbformat": 4,
 "nbformat_minor": 1
}
